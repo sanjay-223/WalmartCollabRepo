{
 "cells": [
  {
   "cell_type": "markdown",
   "metadata": {
    "colab_type": "text",
    "id": "-SfrHDb6U0DS"
   },
   "source": [
    "### Package Version\n",
    "- seaborn==0.10.1\n",
    "- pandas==1.0.4\n",
    "- matplotlib==3.2.1"
   ]
  },
  {
   "cell_type": "markdown",
   "metadata": {
    "colab_type": "text",
    "id": "9rQhRypvPS94"
   },
   "source": [
    "# Context:\n",
    "TechCrunch is an American online publisher focusing on the tech industry. The company specifically reports on the business related to tech, technology news, analysis of emerging trends in tech, and profiling of new tech businesses and products.\n",
    "TechCrunch’s Startup Battlefield is the world’s preeminent startup competition. Startup Battlefield features 15-30 top early stage startups pitching top judges in front of a vast live audience, present in person and online. \n",
    "\n",
    "# Data description:\n",
    "Each row in the dataset is a Start-up company and the columns describe the company. \n",
    "\n",
    "**Name** - Name of the company\n",
    "\n",
    "**Website** : Company website\n",
    "\n",
    "**Crunchbase URL** - URL for company's profile in the Tech crunch database\n",
    "\n",
    "**Funds Raised** - Funds raised by the company in USD\n",
    "\n",
    "**Event** - The techcrunch event the company participated in\n",
    "\n",
    "**Outcome** - Described by Contestant, Finalist, Audience choice, Winner or Runnner up,\n",
    "\n",
    "**Status** - Current status of the company Operating, Closed , Aquired or Ipo\n",
    "\n",
    "\n",
    "[Tech Crunch dataset](https://data.world/aurielle/techcrunch-startup-battlefield-all-companies/workspace/file?filename=Copy+of+Blank+Sheet+-+Template+-+Sheet3.csv)\n",
    "\n",
    "\n",
    "# Tasks:\n",
    "**1)** Check if the average funds raised by the companies still operating and the companies that got closed is significantly different\n",
    "\n",
    "**2)** Check if the proportion of companies still operating is different among the companies which came out only as contestants vs companies that either came out as Finalists, Audience choices, Winners or a Runner-ups"
   ]
  },
  {
   "cell_type": "markdown",
   "metadata": {
    "colab_type": "text",
    "id": "wKy7KCX8PS-E"
   },
   "source": [
    "# Import the dataset"
   ]
  },
  {
   "cell_type": "code",
   "execution_count": 26,
   "metadata": {
    "colab": {
     "base_uri": "https://localhost:8080/",
     "height": 408
    },
    "colab_type": "code",
    "executionInfo": {
     "elapsed": 2176,
     "status": "ok",
     "timestamp": 1591877841416,
     "user": {
      "displayName": "Rachan Goalla",
      "photoUrl": "",
      "userId": "08928234019513120444"
     },
     "user_tz": -330
    },
    "id": "KkIU48M_PS-F",
    "outputId": "3c78f78d-74d1-439b-d3d6-b5c5b273dc57"
   },
   "outputs": [
    {
     "name": "stdout",
     "output_type": "stream",
     "text": [
      "(662, 7)\n"
     ]
    },
    {
     "data": {
      "text/html": [
       "<div>\n",
       "<style scoped>\n",
       "    .dataframe tbody tr th:only-of-type {\n",
       "        vertical-align: middle;\n",
       "    }\n",
       "\n",
       "    .dataframe tbody tr th {\n",
       "        vertical-align: top;\n",
       "    }\n",
       "\n",
       "    .dataframe thead th {\n",
       "        text-align: right;\n",
       "    }\n",
       "</style>\n",
       "<table border=\"1\" class=\"dataframe\">\n",
       "  <thead>\n",
       "    <tr style=\"text-align: right;\">\n",
       "      <th></th>\n",
       "      <th>Name</th>\n",
       "      <th>Website</th>\n",
       "      <th>Crunchbase URL</th>\n",
       "      <th>Funds Raised</th>\n",
       "      <th>Event</th>\n",
       "      <th>Outcome</th>\n",
       "      <th>Status</th>\n",
       "    </tr>\n",
       "  </thead>\n",
       "  <tbody>\n",
       "    <tr>\n",
       "      <th>0</th>\n",
       "      <td>2600Hz</td>\n",
       "      <td>2600hz.com</td>\n",
       "      <td>https://www.crunchbase.com/organization/2600hz</td>\n",
       "      <td>NaN</td>\n",
       "      <td>Disrupt SF 2013</td>\n",
       "      <td>Contestant</td>\n",
       "      <td>Operating</td>\n",
       "    </tr>\n",
       "    <tr>\n",
       "      <th>1</th>\n",
       "      <td>3DLT</td>\n",
       "      <td>3dlt.com</td>\n",
       "      <td>https://www.crunchbase.com/organization/3dlt-com</td>\n",
       "      <td>$630K</td>\n",
       "      <td>Disrupt NYC 2013</td>\n",
       "      <td>Contestant</td>\n",
       "      <td>Closed</td>\n",
       "    </tr>\n",
       "    <tr>\n",
       "      <th>2</th>\n",
       "      <td>3DPrinterOS</td>\n",
       "      <td>3dprinteros.com</td>\n",
       "      <td>https://www.crunchbase.com/organization/3dprin...</td>\n",
       "      <td>NaN</td>\n",
       "      <td>Disrupt SF 2016</td>\n",
       "      <td>Contestant</td>\n",
       "      <td>Operating</td>\n",
       "    </tr>\n",
       "    <tr>\n",
       "      <th>3</th>\n",
       "      <td>3Dprintler</td>\n",
       "      <td>3dprintler.com</td>\n",
       "      <td>https://www.crunchbase.com/organization/3dprin...</td>\n",
       "      <td>$1M</td>\n",
       "      <td>Disrupt NY 2016</td>\n",
       "      <td>Audience choice</td>\n",
       "      <td>Operating</td>\n",
       "    </tr>\n",
       "    <tr>\n",
       "      <th>4</th>\n",
       "      <td>42 Technologies</td>\n",
       "      <td>42technologies.com</td>\n",
       "      <td>https://www.crunchbase.com/organization/42</td>\n",
       "      <td>NaN</td>\n",
       "      <td>Disrupt NYC 2013</td>\n",
       "      <td>Contestant</td>\n",
       "      <td>Operating</td>\n",
       "    </tr>\n",
       "  </tbody>\n",
       "</table>\n",
       "</div>"
      ],
      "text/plain": [
       "              Name             Website  \\\n",
       "0           2600Hz          2600hz.com   \n",
       "1             3DLT            3dlt.com   \n",
       "2      3DPrinterOS     3dprinteros.com   \n",
       "3       3Dprintler      3dprintler.com   \n",
       "4  42 Technologies  42technologies.com   \n",
       "\n",
       "                                      Crunchbase URL Funds Raised  \\\n",
       "0     https://www.crunchbase.com/organization/2600hz          NaN   \n",
       "1   https://www.crunchbase.com/organization/3dlt-com        $630K   \n",
       "2  https://www.crunchbase.com/organization/3dprin...          NaN   \n",
       "3  https://www.crunchbase.com/organization/3dprin...          $1M   \n",
       "4         https://www.crunchbase.com/organization/42          NaN   \n",
       "\n",
       "              Event          Outcome     Status  \n",
       "0   Disrupt SF 2013       Contestant  Operating  \n",
       "1  Disrupt NYC 2013       Contestant     Closed  \n",
       "2   Disrupt SF 2016       Contestant  Operating  \n",
       "3   Disrupt NY 2016  Audience choice  Operating  \n",
       "4  Disrupt NYC 2013       Contestant  Operating  "
      ]
     },
     "execution_count": 26,
     "metadata": {},
     "output_type": "execute_result"
    }
   ],
   "source": [
    "import pandas as pd\n",
    "\n",
    "data = pd.read_csv('techcrunch_data.csv')\n",
    "print(data.shape)\n",
    "data.head()"
   ]
  },
  {
   "cell_type": "markdown",
   "metadata": {
    "colab_type": "text",
    "id": "ygfiCUHzPS-K"
   },
   "source": [
    "# Explore the data"
   ]
  },
  {
   "cell_type": "code",
   "execution_count": null,
   "metadata": {
    "colab": {
     "base_uri": "https://localhost:8080/",
     "height": 153
    },
    "colab_type": "code",
    "executionInfo": {
     "elapsed": 1221,
     "status": "ok",
     "timestamp": 1591877846550,
     "user": {
      "displayName": "Rachan Goalla",
      "photoUrl": "",
      "userId": "08928234019513120444"
     },
     "user_tz": -330
    },
    "id": "Pa2R8FOMPS-L",
    "outputId": "10d0a84f-72a6-4f0a-f08b-cdf1df0c0753"
   },
   "outputs": [],
   "source": [
    "data.dtypes"
   ]
  },
  {
   "cell_type": "markdown",
   "metadata": {
    "colab_type": "text",
    "id": "vVjAPFtIPS-R"
   },
   "source": [
    "- All the columns are of object type \n",
    "- However, we would need the column \"Funds Raised\" to be of numerical data type\n",
    "- We shall treat that later"
   ]
  },
  {
   "cell_type": "code",
   "execution_count": null,
   "metadata": {
    "colab": {
     "base_uri": "https://localhost:8080/",
     "height": 153
    },
    "colab_type": "code",
    "executionInfo": {
     "elapsed": 1307,
     "status": "ok",
     "timestamp": 1591877849517,
     "user": {
      "displayName": "Rachan Goalla",
      "photoUrl": "",
      "userId": "08928234019513120444"
     },
     "user_tz": -330
    },
    "id": "cVBCU4HjPS-R",
    "outputId": "45b01249-8856-4118-bace-28b547c2bad2"
   },
   "outputs": [],
   "source": [
    "data.isna().sum()"
   ]
  },
  {
   "cell_type": "markdown",
   "metadata": {
    "colab_type": "text",
    "id": "0A8VWSP4PS-W"
   },
   "source": [
    "- Turns out we do not have data of funds raised by all the companies\n",
    "- We would need need it to perform the first task, hence we will have to ignore the companies of which we do not have data for the funds they raised"
   ]
  },
  {
   "cell_type": "code",
   "execution_count": null,
   "metadata": {
    "colab": {},
    "colab_type": "code",
    "id": "kTDkY58rPS-W"
   },
   "outputs": [],
   "source": [
    "df1 = data.dropna().copy(deep=True)   # drop the rows which have no data for funds raised"
   ]
  },
  {
   "cell_type": "code",
   "execution_count": null,
   "metadata": {
    "colab": {
     "base_uri": "https://localhost:8080/",
     "height": 119
    },
    "colab_type": "code",
    "executionInfo": {
     "elapsed": 1058,
     "status": "ok",
     "timestamp": 1591877855565,
     "user": {
      "displayName": "Rachan Goalla",
      "photoUrl": "",
      "userId": "08928234019513120444"
     },
     "user_tz": -330
    },
    "id": "zVmif6nrPS-a",
    "outputId": "d50418ba-e4e4-442c-fe99-8e3d5b9b63e3"
   },
   "outputs": [],
   "source": [
    "df1['Funds Raised'].sample(5)"
   ]
  },
  {
   "cell_type": "markdown",
   "metadata": {
    "colab_type": "text",
    "id": "n0uTWE-rPS-f"
   },
   "source": [
    "- We do not have absolute numbers to directly use in our tests\n",
    "- The values need some pre-processing\n",
    "- We will strip the values of the dollar sign and the abbreviations\n",
    "- First we will have to check all the various abbreviations that the numbers are represented by, then based on the abbreviation we have to bring those numbers on the same scale"
   ]
  },
  {
   "cell_type": "code",
   "execution_count": null,
   "metadata": {
    "colab": {},
    "colab_type": "code",
    "id": "RyeWbxKoPS-f"
   },
   "outputs": [],
   "source": [
    "df1.loc[:,'Funds_in_million'] = df1['Funds Raised'].apply(lambda x: float(x[1:-1])/1000 if x[-1] == 'K' else (float(x[1:-1])*1000 if x[-1] == 'B' else float(x[1:-1])))"
   ]
  },
  {
   "cell_type": "markdown",
   "metadata": {
    "colab_type": "text",
    "id": "7y5CKvf5PS-j"
   },
   "source": [
    "**Code Explanation:**\n",
    "Within the lambda function, we passed two if else blocks. If the last element in the value is 'K', then divide the number by 1000 else, if it is 'B', multiply by 1000 else, return as it is. We passed this lambda function to the apply method which we used on the 'Funds Raised' column and assigned the result to a new column ('funds_in_million') in the dataframe"
   ]
  },
  {
   "cell_type": "code",
   "execution_count": null,
   "metadata": {
    "colab": {
     "base_uri": "https://localhost:8080/",
     "height": 247
    },
    "colab_type": "code",
    "executionInfo": {
     "elapsed": 1007,
     "status": "ok",
     "timestamp": 1591877859956,
     "user": {
      "displayName": "Rachan Goalla",
      "photoUrl": "",
      "userId": "08928234019513120444"
     },
     "user_tz": -330
    },
    "id": "Fd8sHLZiPS-k",
    "outputId": "651438a5-519a-4547-bb6e-40f7a819b794"
   },
   "outputs": [],
   "source": [
    "df1.sample(3)"
   ]
  },
  {
   "cell_type": "markdown",
   "metadata": {
    "colab_type": "text",
    "id": "kC_dMaijPS-o"
   },
   "source": [
    "- Run the above cell a couple of times to quickly verify the values\n",
    "- We have brought the data to a usable form for analysis\n",
    "\n",
    "\n",
    "### Task 1"
   ]
  },
  {
   "cell_type": "code",
   "execution_count": null,
   "metadata": {
    "colab": {
     "base_uri": "https://localhost:8080/",
     "height": 281
    },
    "colab_type": "code",
    "executionInfo": {
     "elapsed": 1189,
     "status": "ok",
     "timestamp": 1591877901565,
     "user": {
      "displayName": "Rachan Goalla",
      "photoUrl": "",
      "userId": "08928234019513120444"
     },
     "user_tz": -330
    },
    "id": "lQeG92utPS-o",
    "outputId": "0e7b0f18-05d1-4e0a-b986-8ef4b9b3c272"
   },
   "outputs": [],
   "source": [
    "%matplotlib inline\n",
    "from matplotlib import pyplot as plt\n",
    "\n",
    "plot = plt.boxplot(df1.Funds_in_million)\n",
    "plt.title('Boxplot of the funds')\n",
    "plt.ylabel(\"Funds raised (in Million)\")\n",
    "\n",
    "plt.show()"
   ]
  },
  {
   "cell_type": "markdown",
   "metadata": {
    "colab_type": "text",
    "id": "Q-1smJEvPS-s"
   },
   "source": [
    "- There are significant outliers in the data\n",
    "- For the purpose of this test, we shall remove them"
   ]
  },
  {
   "cell_type": "code",
   "execution_count": null,
   "metadata": {
    "colab": {
     "base_uri": "https://localhost:8080/",
     "height": 34
    },
    "colab_type": "code",
    "executionInfo": {
     "elapsed": 926,
     "status": "ok",
     "timestamp": 1591877905157,
     "user": {
      "displayName": "Rachan Goalla",
      "photoUrl": "",
      "userId": "08928234019513120444"
     },
     "user_tz": -330
    },
    "id": "lQhoHZAHPS-t",
    "outputId": "87e18e66-a0fc-49b2-a110-36a4c491637e"
   },
   "outputs": [],
   "source": [
    "upper_fence = plot['caps'][1].get_data()[1][1]   # we can use the values from the box plot itself to get the upper fence\n",
    "upper_fence"
   ]
  },
  {
   "cell_type": "code",
   "execution_count": null,
   "metadata": {
    "colab": {
     "base_uri": "https://localhost:8080/",
     "height": 1000
    },
    "colab_type": "code",
    "executionInfo": {
     "elapsed": 743,
     "status": "ok",
     "timestamp": 1591877906558,
     "user": {
      "displayName": "Rachan Goalla",
      "photoUrl": "",
      "userId": "08928234019513120444"
     },
     "user_tz": -330
    },
    "id": "E-yeydWMPS-z",
    "outputId": "144e0b39-a569-4caa-bc1c-03a667015cd8"
   },
   "outputs": [],
   "source": [
    "print(f'Number of outliers = {len(df1[df1.Funds_in_million > upper_fence])}')\n",
    "\n",
    "df1[df1.Funds_in_million > upper_fence]"
   ]
  },
  {
   "cell_type": "markdown",
   "metadata": {
    "colab_type": "text",
    "id": "aRtC-PfxPS-3"
   },
   "source": [
    "- The above 60 records are of companies that have been funded excessively in comparision to the others in the pool\n",
    "- Let's see the distribution without these outliers"
   ]
  },
  {
   "cell_type": "code",
   "execution_count": null,
   "metadata": {
    "colab": {},
    "colab_type": "code",
    "id": "VJwQHexhPS-4"
   },
   "outputs": [],
   "source": [
    "df1.drop(df1[df1.Funds_in_million > upper_fence].index, inplace = True)"
   ]
  },
  {
   "cell_type": "code",
   "execution_count": null,
   "metadata": {
    "colab": {
     "base_uri": "https://localhost:8080/",
     "height": 281
    },
    "colab_type": "code",
    "executionInfo": {
     "elapsed": 896,
     "status": "ok",
     "timestamp": 1591877911948,
     "user": {
      "displayName": "Rachan Goalla",
      "photoUrl": "",
      "userId": "08928234019513120444"
     },
     "user_tz": -330
    },
    "id": "E9GBcH4uPS-7",
    "outputId": "2f8e6149-195a-41af-ea97-91339ff97fa9",
    "scrolled": true
   },
   "outputs": [],
   "source": [
    "plot = plt.boxplot(df1.Funds_in_million)\n",
    "plt.title('Boxplot of funds without the original outliers')\n",
    "plt.ylabel(\"Funds raised (in Million)\")\n",
    "plt.show()"
   ]
  },
  {
   "cell_type": "code",
   "execution_count": null,
   "metadata": {
    "colab": {
     "base_uri": "https://localhost:8080/",
     "height": 85
    },
    "colab_type": "code",
    "executionInfo": {
     "elapsed": 642,
     "status": "ok",
     "timestamp": 1591877913400,
     "user": {
      "displayName": "Rachan Goalla",
      "photoUrl": "",
      "userId": "08928234019513120444"
     },
     "user_tz": -330
    },
    "id": "uZnwyUnuPS-_",
    "outputId": "3f4e90a0-2450-4900-a9d1-69626d1635ab"
   },
   "outputs": [],
   "source": [
    "df1.Status.value_counts()"
   ]
  },
  {
   "cell_type": "markdown",
   "metadata": {
    "colab_type": "text",
    "id": "LCiC-ANdPS_D"
   },
   "source": [
    "- Our companies of interest for task 1 are 275 companies that are opetaring and 57 that got closed"
   ]
  },
  {
   "cell_type": "code",
   "execution_count": null,
   "metadata": {
    "colab": {
     "base_uri": "https://localhost:8080/",
     "height": 350
    },
    "colab_type": "code",
    "executionInfo": {
     "elapsed": 1451,
     "status": "ok",
     "timestamp": 1591877939224,
     "user": {
      "displayName": "Rachan Goalla",
      "photoUrl": "",
      "userId": "08928234019513120444"
     },
     "user_tz": -330
    },
    "id": "0QQ-83eMPS_E",
    "outputId": "9234902c-d67a-4ebc-d3c9-8eb467c79a97"
   },
   "outputs": [],
   "source": [
    "import seaborn as sns\n",
    "\n",
    "sns.distplot(df1.Funds_in_million)\n",
    "plt.title('Distribution of funds raised across all companies')\n",
    "plt.show()"
   ]
  },
  {
   "cell_type": "code",
   "execution_count": null,
   "metadata": {
    "colab": {
     "base_uri": "https://localhost:8080/",
     "height": 170
    },
    "colab_type": "code",
    "executionInfo": {
     "elapsed": 806,
     "status": "ok",
     "timestamp": 1591877941920,
     "user": {
      "displayName": "Rachan Goalla",
      "photoUrl": "",
      "userId": "08928234019513120444"
     },
     "user_tz": -330
    },
    "id": "YFRcl7KePS_I",
    "outputId": "d5d4fb45-d714-4ee2-dc4d-377f193cfdee"
   },
   "outputs": [],
   "source": [
    "df1.Funds_in_million.describe()"
   ]
  },
  {
   "cell_type": "markdown",
   "metadata": {
    "colab_type": "text",
    "id": "MzvD9WH-PS_M"
   },
   "source": [
    "- 75% of the companies have less than 5 million raised funds, the max however is 22\n",
    "- Even after removing the outliers, the data is pretty heavily skewed"
   ]
  },
  {
   "cell_type": "code",
   "execution_count": null,
   "metadata": {
    "colab": {
     "base_uri": "https://localhost:8080/",
     "height": 349
    },
    "colab_type": "code",
    "executionInfo": {
     "elapsed": 1588,
     "status": "ok",
     "timestamp": 1591877945198,
     "user": {
      "displayName": "Rachan Goalla",
      "photoUrl": "",
      "userId": "08928234019513120444"
     },
     "user_tz": -330
    },
    "id": "qy1O5u9OPS_M",
    "outputId": "17e29f4a-18af-424b-deaf-1870cbd7521a"
   },
   "outputs": [],
   "source": [
    "fig, ax = plt.subplots(1, 2)\n",
    "\n",
    "fig.set_figheight(5)\n",
    "fig.set_figwidth(15)\n",
    "\n",
    "sns.distplot(df1.loc[df1.Status == 'Operating', 'Funds_in_million'], ax = ax[0])\n",
    "sns.distplot(df1.loc[df1.Status =='Closed', 'Funds_in_million'], ax = ax[1])\n",
    "\n",
    "ax[0].set_title('Funds raised by the companies still operating')\n",
    "ax[1].set_title('Funds raised by companies that got closed')\n",
    "plt.show()"
   ]
  },
  {
   "cell_type": "markdown",
   "metadata": {
    "colab_type": "text",
    "id": "SyoE0GcJPS_Q"
   },
   "source": [
    "- Visually the distributions are quiet similar\n",
    "- To prove if there is a significant difference or not we will have to perform a hypothesis test\n",
    "- Since we want to compare the difference in means of the samples, we can either use 2 sample t test or z-test\n",
    "- For this exercise we shall do both and compare the results\n",
    "- One thing to notice is that the distributions are not normal yet, since our sample size is reasonably big ( >30 samples), we will go ahead with the aforementioned tests\n",
    "\n",
    "For the first test, \n",
    "\n",
    "**Null hypothesis (Ho)** : There is no difference between the two means\n",
    "\n",
    "**Alternate hypothesis (Ha)** : There is significant difference between the two means"
   ]
  },
  {
   "cell_type": "code",
   "execution_count": null,
   "metadata": {
    "colab": {
     "base_uri": "https://localhost:8080/",
     "height": 51
    },
    "colab_type": "code",
    "executionInfo": {
     "elapsed": 1040,
     "status": "ok",
     "timestamp": 1591877953344,
     "user": {
      "displayName": "Rachan Goalla",
      "photoUrl": "",
      "userId": "08928234019513120444"
     },
     "user_tz": -330
    },
    "id": "J1_GyOrYPS_R",
    "outputId": "aaa08f3f-b3df-44d3-dd7f-8e6d50d32156"
   },
   "outputs": [],
   "source": [
    "from statsmodels.stats.weightstats import ztest\n",
    "\n",
    "sample1 = df1.loc[df1.Status == 'Operating', 'Funds_in_million']\n",
    "sample2 = df1.loc[df1.Status =='Closed', 'Funds_in_million']\n",
    "\n",
    "alpha = 0.05   # Let's consider a significance level of 5%\n",
    "\n",
    "test_statistic, p_value = ztest(sample1, sample2)\n",
    "\n",
    "if p_value <= alpha:\n",
    "    print(f'Since the p-value, {round(p_value, 3)} < {alpha} (alpha) the difference is significant and we reject the Null hypothesis')\n",
    "else:\n",
    "    print(f'''\\t Since the p-value, {round(p_value,3)} > {alpha} (alpha) the difference is not significant and,\n",
    "    \\t we fail to reject the Null hypothesis''')\n",
    "    "
   ]
  },
  {
   "cell_type": "code",
   "execution_count": null,
   "metadata": {
    "colab": {
     "base_uri": "https://localhost:8080/",
     "height": 51
    },
    "colab_type": "code",
    "executionInfo": {
     "elapsed": 695,
     "status": "ok",
     "timestamp": 1591877954982,
     "user": {
      "displayName": "Rachan Goalla",
      "photoUrl": "",
      "userId": "08928234019513120444"
     },
     "user_tz": -330
    },
    "id": "fuB7IsUgPS_d",
    "outputId": "643f2759-7c8a-4786-f15d-2da0d40c610d"
   },
   "outputs": [],
   "source": [
    "from scipy.stats import ttest_ind\n",
    "\n",
    "test_statistic, p_value = ttest_ind(sample1, sample2)\n",
    "\n",
    "if p_value <= alpha:\n",
    "    print(f'Since the p-value, {round(p_value, 3)} < {alpha} (alpha) the difference is significant and we reject the Null hypothesis')\n",
    "else:\n",
    "    print(f'''\\t Since the p-value, {round(p_value,3)} > {alpha} (alpha) the difference is not significant and,\n",
    "    \\t we fail to reject the Null hypothesis''')"
   ]
  },
  {
   "cell_type": "markdown",
   "metadata": {
    "colab_type": "text",
    "id": "ftSB4ckQPS_h"
   },
   "source": [
    "- From the tests above we found no evidence to state that the companies that have raised more money tend to suceed more or vice-versa"
   ]
  },
  {
   "cell_type": "markdown",
   "metadata": {
    "colab_type": "text",
    "id": "ZSWhkxJbPS_i"
   },
   "source": [
    "### Task 2"
   ]
  },
  {
   "cell_type": "code",
   "execution_count": null,
   "metadata": {
    "colab": {
     "base_uri": "https://localhost:8080/",
     "height": 391
    },
    "colab_type": "code",
    "executionInfo": {
     "elapsed": 1118,
     "status": "ok",
     "timestamp": 1591877961131,
     "user": {
      "displayName": "Rachan Goalla",
      "photoUrl": "",
      "userId": "08928234019513120444"
     },
     "user_tz": -330
    },
    "id": "RnFuK4HjPS_j",
    "outputId": "fb0f8bc9-d4c8-416d-c4a0-e84d38cc2f6d"
   },
   "outputs": [],
   "source": [
    "df2 = data.copy(deep = True)\n",
    "df2.head()"
   ]
  },
  {
   "cell_type": "code",
   "execution_count": null,
   "metadata": {
    "colab": {
     "base_uri": "https://localhost:8080/",
     "height": 119
    },
    "colab_type": "code",
    "executionInfo": {
     "elapsed": 654,
     "status": "ok",
     "timestamp": 1591877962874,
     "user": {
      "displayName": "Rachan Goalla",
      "photoUrl": "",
      "userId": "08928234019513120444"
     },
     "user_tz": -330
    },
    "id": "xhlIl3CNPS_m",
    "outputId": "cf2cdc3d-5cce-424c-ed54-1324adfa7bd4"
   },
   "outputs": [],
   "source": [
    "df2.Outcome.value_counts()"
   ]
  },
  {
   "cell_type": "markdown",
   "metadata": {
    "colab_type": "text",
    "id": "LeyzuxO4PS_o"
   },
   "source": [
    "- There are 488 who remained contestants and the rest came out as something more, we'll call all of them winners for now"
   ]
  },
  {
   "cell_type": "code",
   "execution_count": null,
   "metadata": {
    "colab": {},
    "colab_type": "code",
    "id": "-IEc5coMPS_p"
   },
   "outputs": [],
   "source": [
    "winners = df2.Outcome.value_counts()[1:].sum()\n",
    "contestants = df2.Outcome.value_counts()['Contestant']"
   ]
  },
  {
   "cell_type": "code",
   "execution_count": null,
   "metadata": {
    "colab": {},
    "colab_type": "code",
    "id": "d5N9HvRsPS_u"
   },
   "outputs": [],
   "source": [
    "contestants_operating = df2.Status[df2.Outcome == 'Contestant'].value_counts().loc['Operating']\n",
    "winners_operating = df2.Status[df2.Outcome != 'Contestant'].value_counts().loc['Operating']\n"
   ]
  },
  {
   "cell_type": "code",
   "execution_count": null,
   "metadata": {
    "colab": {
     "base_uri": "https://localhost:8080/",
     "height": 34
    },
    "colab_type": "code",
    "executionInfo": {
     "elapsed": 627,
     "status": "ok",
     "timestamp": 1591877968067,
     "user": {
      "displayName": "Rachan Goalla",
      "photoUrl": "",
      "userId": "08928234019513120444"
     },
     "user_tz": -330
    },
    "id": "IO9jAzIFPS_z",
    "outputId": "b0998f6f-528d-4904-ff7a-cec4bc8ab254"
   },
   "outputs": [],
   "source": [
    "\n",
    "\n",
    "winners_operating/winners, contestants_operating/contestants"
   ]
  },
  {
   "cell_type": "markdown",
   "metadata": {
    "colab_type": "text",
    "id": "5o3l__ekPS_3"
   },
   "source": [
    "- There is some difference between the proportion operational companies in the two categories, but let's see if the differnce is significant\n",
    "- There are two ways we can check if the difference is significant\n",
    "    - Z-test for proportions\n",
    "    - Chi-square test\n",
    "- We shall perform z-test in this case, however, do experiment with Chi-square test and observe if the p-value from both tests gives the same conclusion or not\n",
    "\n",
    "**Null hyputhesis (Ho)**: The proportion of companies that are operating is the same in both categories - winners and contestants\n",
    "\n",
    "**Alternative hypothesis (Ha)**: The proportion of companies that are operating is significantly different from each other, among the two categories"
   ]
  },
  {
   "cell_type": "code",
   "execution_count": null,
   "metadata": {
    "colab": {
     "base_uri": "https://localhost:8080/",
     "height": 34
    },
    "colab_type": "code",
    "executionInfo": {
     "elapsed": 939,
     "status": "ok",
     "timestamp": 1591877971055,
     "user": {
      "displayName": "Rachan Goalla",
      "photoUrl": "",
      "userId": "08928234019513120444"
     },
     "user_tz": -330
    },
    "id": "sYHsJho-PS_4",
    "outputId": "2545b21f-dedc-4bc3-9030-26be61cad0f1"
   },
   "outputs": [],
   "source": [
    "from statsmodels.stats.proportion import proportions_ztest\n",
    "\n",
    "test_statistic, p_value = proportions_ztest([contestants_operating, winners_operating], [contestants, winners])\n",
    "\n",
    "if p_value <= alpha:\n",
    "    print(f'Since the p-value, {round(p_value, 3)} < {alpha} (alpha) the difference is significant and we reject the Null hypothesis')\n",
    "else:\n",
    "    print(f'''\\t Since the p-value, {round(p_value,3)} > {alpha} (alpha) the difference is not significant and,\n",
    "    \\t we fail to reject the Null hypothesis''')"
   ]
  },
  {
   "cell_type": "markdown",
   "metadata": {
    "colab_type": "text",
    "id": "UGIDSk04PS_6"
   },
   "source": [
    "# Conclusion:\n",
    "- The amount of funds a company raises is not a significant factor in deciding if the company will remain operational or close down\n",
    "- Winners in the tech-crunch battle have proven to remain operational more so, than the companies that came out only as contestants"
   ]
  },
  {
   "cell_type": "markdown",
   "metadata": {
    "colab_type": "text",
    "id": "sq6uZ4VXPS_7"
   },
   "source": [
    "# Bonus"
   ]
  },
  {
   "cell_type": "markdown",
   "metadata": {
    "colab_type": "text",
    "id": "9A0MB2VIPS_8"
   },
   "source": [
    "We have the information about the event location where each company has participated and in which year so what we want to do is, see if there is a significant difference among the funds raised by the companies from New York, San Fransisco and Europe (EU and London combined)"
   ]
  },
  {
   "cell_type": "code",
   "execution_count": null,
   "metadata": {
    "colab": {
     "base_uri": "https://localhost:8080/",
     "height": 357
    },
    "colab_type": "code",
    "executionInfo": {
     "elapsed": 990,
     "status": "ok",
     "timestamp": 1591877976599,
     "user": {
      "displayName": "Rachan Goalla",
      "photoUrl": "",
      "userId": "08928234019513120444"
     },
     "user_tz": -330
    },
    "id": "tkGft459PS_8",
    "outputId": "00f021fa-b3ba-42d2-c19c-31a1e96f83db"
   },
   "outputs": [],
   "source": [
    "df1[df1.Event.apply(lambda x: 'Disrupt' in x)].Event.value_counts()"
   ]
  },
  {
   "cell_type": "markdown",
   "metadata": {
    "colab_type": "text",
    "id": "053y26gyPS__"
   },
   "source": [
    "- We have considered only the \"Tech Crunch Disrupt\" events\n",
    "- Since we have the data for the EU only from 2013, we'll drop the records pertaining to events earlier than 2013"
   ]
  },
  {
   "cell_type": "code",
   "execution_count": null,
   "metadata": {
    "colab": {
     "base_uri": "https://localhost:8080/",
     "height": 221
    },
    "colab_type": "code",
    "executionInfo": {
     "elapsed": 1044,
     "status": "ok",
     "timestamp": 1591877980285,
     "user": {
      "displayName": "Rachan Goalla",
      "photoUrl": "",
      "userId": "08928234019513120444"
     },
     "user_tz": -330
    },
    "id": "CUmUTboKPTAA",
    "outputId": "b3c9f5e4-821f-4d31-db0c-c0274040633a"
   },
   "outputs": [],
   "source": [
    "events = df1[df1.Event.apply(lambda x: 'Disrupt' in x and int(x[-4:]) > 2012)].Event  # all the events of relevance\n",
    "events"
   ]
  },
  {
   "cell_type": "code",
   "execution_count": null,
   "metadata": {
    "colab": {
     "base_uri": "https://localhost:8080/",
     "height": 34
    },
    "colab_type": "code",
    "executionInfo": {
     "elapsed": 600,
     "status": "ok",
     "timestamp": 1591877982329,
     "user": {
      "displayName": "Rachan Goalla",
      "photoUrl": "",
      "userId": "08928234019513120444"
     },
     "user_tz": -330
    },
    "id": "E3Ggs9NOPTAE",
    "outputId": "e91d9af0-6412-4b76-ee16-1ecb7946d2e6"
   },
   "outputs": [],
   "source": [
    "NY_events = df1.loc[events[events.apply(lambda x: 'NY' in x)].index, 'Funds_in_million']\n",
    "SF_events = df1.loc[events[events.apply(lambda x: 'SF' in x)].index, 'Funds_in_million']\n",
    "EU_events = df1.loc[events[events.apply(lambda x: 'EU' in x or 'London' in x)].index, 'Funds_in_million']\n",
    "print(len(NY_events), len(SF_events), len(EU_events))"
   ]
  },
  {
   "cell_type": "markdown",
   "metadata": {
    "colab_type": "text",
    "id": "tbfEeb9WPTAH"
   },
   "source": [
    "- Each of the three above variables hold the amount of funds with respect to the Cities where the even was organised\n",
    "- The sample sizes are different across the three categories and it is okay to perform ANOVA on samples of different sizes\n",
    "\n",
    "\n",
    "**Null Hypothesis(Ho)**: Average funds raised by companies across three cities are the same \n",
    "\n",
    "**Alternative Hypothesis(Ha)**: Average funds raised by companies across three cities are the different"
   ]
  },
  {
   "cell_type": "code",
   "execution_count": null,
   "metadata": {
    "colab": {
     "base_uri": "https://localhost:8080/",
     "height": 387
    },
    "colab_type": "code",
    "executionInfo": {
     "elapsed": 1234,
     "status": "ok",
     "timestamp": 1591877984678,
     "user": {
      "displayName": "Rachan Goalla",
      "photoUrl": "",
      "userId": "08928234019513120444"
     },
     "user_tz": -330
    },
    "id": "noe83KdvPTAI",
    "outputId": "7621e911-bcac-44fd-d3be-ed97fdc743bf"
   },
   "outputs": [],
   "source": [
    "plt.figure(figsize=(15,6))\n",
    "sns.distplot(NY_events, color = 'Red', label = 'NY')\n",
    "sns.distplot(SF_events, color = 'Gold', label = 'SF')\n",
    "sns.distplot(EU_events, color = 'blue', label = 'EU')\n",
    "plt.legend()\n",
    "plt.show()\n"
   ]
  },
  {
   "cell_type": "markdown",
   "metadata": {
    "colab_type": "text",
    "id": "RMSwat4DPTAL"
   },
   "source": [
    "- Visually the distributions look quiet similar\n",
    "- The Modes of the three distributions are quiet the same\n",
    "- Dispersion in NY quiet high compared to the others\n",
    "- Let's see what the test says"
   ]
  },
  {
   "cell_type": "code",
   "execution_count": null,
   "metadata": {
    "colab": {
     "base_uri": "https://localhost:8080/",
     "height": 51
    },
    "colab_type": "code",
    "executionInfo": {
     "elapsed": 1115,
     "status": "ok",
     "timestamp": 1591877987684,
     "user": {
      "displayName": "Rachan Goalla",
      "photoUrl": "",
      "userId": "08928234019513120444"
     },
     "user_tz": -330
    },
    "id": "yA2aICZEPTAL",
    "outputId": "975d5981-3b8d-4990-e9f5-a3765090f06c"
   },
   "outputs": [],
   "source": [
    "from scipy.stats import f_oneway\n",
    "\n",
    "\n",
    "stat, p_value = f_oneway(NY_events, SF_events, EU_events)\n",
    "\n",
    "if p_value <= alpha:\n",
    "    print(f'Since the p-value, {round(p_value, 3)} < {alpha} (alpha) the difference is significant and we reject the Null hypothesis')\n",
    "else:\n",
    "    print(f'''\\t Since the p-value, {round(p_value,3)} > {alpha} (alpha) the difference is not significant and,\n",
    "    \\t we fail to reject the Null hypothesis''')"
   ]
  },
  {
   "cell_type": "markdown",
   "metadata": {
    "colab_type": "text",
    "id": "VtFqF_1hPTAO"
   },
   "source": [
    "- The distribution of funds raised by the companies across the three regions is the same\n",
    "- We found no evidence to say companies participating in certain regions have funds either significantly on the higher side or on the lower side"
   ]
  }
 ],
 "metadata": {
  "colab": {
   "name": "Week 3 - Mentor Case Study - 3 - Applied Statistics - JPMC.ipynb",
   "provenance": [],
   "toc_visible": true
  },
  "kernelspec": {
   "display_name": "Python 3 (ipykernel)",
   "language": "python",
   "name": "python3"
  },
  "language_info": {
   "codemirror_mode": {
    "name": "ipython",
    "version": 3
   },
   "file_extension": ".py",
   "mimetype": "text/x-python",
   "name": "python",
   "nbconvert_exporter": "python",
   "pygments_lexer": "ipython3",
   "version": "3.11.5"
  }
 },
 "nbformat": 4,
 "nbformat_minor": 1
}
